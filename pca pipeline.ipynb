{
 "cells": [
  {
   "cell_type": "code",
   "execution_count": 6,
   "metadata": {
    "collapsed": true
   },
   "outputs": [],
   "source": [
    "import pandas as pd\n",
    "import numpy as np\n",
    "import os\n",
    "from matplotlib import pyplot as plt\n",
    "import numpy as np\n",
    "import math\n",
    "from sklearn.preprocessing import StandardScaler\n",
    "from sklearn.decomposition import PCA \n",
    "import seaborn as sns\n",
    "\n",
    "%matplotlib inline\n",
    "sns.set_style('whitegrid')\n",
    "\n",
    "\n",
    "votes_file = 'votes.csv'"
   ]
  },
  {
   "cell_type": "markdown",
   "metadata": {},
   "source": [
    "# Our Data is Voting Data"
   ]
  },
  {
   "cell_type": "code",
   "execution_count": 7,
   "metadata": {},
   "outputs": [],
   "source": [
    "#headers = [class, v1, v2, v3, v4, v5, v6, v7, v8, ... ]\n",
    "df = pd.read_csv(votes_file, index_col = 0)"
   ]
  },
  {
   "cell_type": "code",
   "execution_count": 8,
   "metadata": {
    "collapsed": true
   },
   "outputs": [],
   "source": [
    "#Lower-case all DataFrame column names\n",
    "df.columns = map(str.lower, df.columns)"
   ]
  },
  {
   "cell_type": "code",
   "execution_count": 9,
   "metadata": {},
   "outputs": [
    {
     "data": {
      "text/html": [
       "<div>\n",
       "<style>\n",
       "    .dataframe thead tr:only-child th {\n",
       "        text-align: right;\n",
       "    }\n",
       "\n",
       "    .dataframe thead th {\n",
       "        text-align: left;\n",
       "    }\n",
       "\n",
       "    .dataframe tbody tr th {\n",
       "        vertical-align: top;\n",
       "    }\n",
       "</style>\n",
       "<table border=\"1\" class=\"dataframe\">\n",
       "  <thead>\n",
       "    <tr style=\"text-align: right;\">\n",
       "      <th></th>\n",
       "      <th>class</th>\n",
       "      <th>v1</th>\n",
       "      <th>v2</th>\n",
       "      <th>v3</th>\n",
       "      <th>v4</th>\n",
       "      <th>v5</th>\n",
       "      <th>v6</th>\n",
       "      <th>v7</th>\n",
       "      <th>v8</th>\n",
       "      <th>v9</th>\n",
       "      <th>v10</th>\n",
       "      <th>v11</th>\n",
       "      <th>v12</th>\n",
       "      <th>v13</th>\n",
       "      <th>v14</th>\n",
       "      <th>v15</th>\n",
       "      <th>v16</th>\n",
       "    </tr>\n",
       "  </thead>\n",
       "  <tbody>\n",
       "    <tr>\n",
       "      <th>1</th>\n",
       "      <td>republican</td>\n",
       "      <td>n</td>\n",
       "      <td>y</td>\n",
       "      <td>n</td>\n",
       "      <td>y</td>\n",
       "      <td>y</td>\n",
       "      <td>y</td>\n",
       "      <td>n</td>\n",
       "      <td>n</td>\n",
       "      <td>n</td>\n",
       "      <td>y</td>\n",
       "      <td>NaN</td>\n",
       "      <td>y</td>\n",
       "      <td>y</td>\n",
       "      <td>y</td>\n",
       "      <td>n</td>\n",
       "      <td>y</td>\n",
       "    </tr>\n",
       "    <tr>\n",
       "      <th>2</th>\n",
       "      <td>republican</td>\n",
       "      <td>n</td>\n",
       "      <td>y</td>\n",
       "      <td>n</td>\n",
       "      <td>y</td>\n",
       "      <td>y</td>\n",
       "      <td>y</td>\n",
       "      <td>n</td>\n",
       "      <td>n</td>\n",
       "      <td>n</td>\n",
       "      <td>n</td>\n",
       "      <td>n</td>\n",
       "      <td>y</td>\n",
       "      <td>y</td>\n",
       "      <td>y</td>\n",
       "      <td>n</td>\n",
       "      <td>NaN</td>\n",
       "    </tr>\n",
       "    <tr>\n",
       "      <th>3</th>\n",
       "      <td>democrat</td>\n",
       "      <td>NaN</td>\n",
       "      <td>y</td>\n",
       "      <td>y</td>\n",
       "      <td>NaN</td>\n",
       "      <td>y</td>\n",
       "      <td>y</td>\n",
       "      <td>n</td>\n",
       "      <td>n</td>\n",
       "      <td>n</td>\n",
       "      <td>n</td>\n",
       "      <td>y</td>\n",
       "      <td>n</td>\n",
       "      <td>y</td>\n",
       "      <td>y</td>\n",
       "      <td>n</td>\n",
       "      <td>n</td>\n",
       "    </tr>\n",
       "    <tr>\n",
       "      <th>4</th>\n",
       "      <td>democrat</td>\n",
       "      <td>n</td>\n",
       "      <td>y</td>\n",
       "      <td>y</td>\n",
       "      <td>n</td>\n",
       "      <td>NaN</td>\n",
       "      <td>y</td>\n",
       "      <td>n</td>\n",
       "      <td>n</td>\n",
       "      <td>n</td>\n",
       "      <td>n</td>\n",
       "      <td>y</td>\n",
       "      <td>n</td>\n",
       "      <td>y</td>\n",
       "      <td>n</td>\n",
       "      <td>n</td>\n",
       "      <td>y</td>\n",
       "    </tr>\n",
       "    <tr>\n",
       "      <th>5</th>\n",
       "      <td>democrat</td>\n",
       "      <td>y</td>\n",
       "      <td>y</td>\n",
       "      <td>y</td>\n",
       "      <td>n</td>\n",
       "      <td>y</td>\n",
       "      <td>y</td>\n",
       "      <td>n</td>\n",
       "      <td>n</td>\n",
       "      <td>n</td>\n",
       "      <td>n</td>\n",
       "      <td>y</td>\n",
       "      <td>NaN</td>\n",
       "      <td>y</td>\n",
       "      <td>y</td>\n",
       "      <td>y</td>\n",
       "      <td>y</td>\n",
       "    </tr>\n",
       "  </tbody>\n",
       "</table>\n",
       "</div>"
      ],
      "text/plain": [
       "        class   v1 v2 v3   v4   v5 v6 v7 v8 v9 v10  v11  v12 v13 v14 v15  v16\n",
       "1  republican    n  y  n    y    y  y  n  n  n   y  NaN    y   y   y   n    y\n",
       "2  republican    n  y  n    y    y  y  n  n  n   n    n    y   y   y   n  NaN\n",
       "3    democrat  NaN  y  y  NaN    y  y  n  n  n   n    y    n   y   y   n    n\n",
       "4    democrat    n  y  y    n  NaN  y  n  n  n   n    y    n   y   n   n    y\n",
       "5    democrat    y  y  y    n    y  y  n  n  n   n    y  NaN   y   y   y    y"
      ]
     },
     "execution_count": 9,
     "metadata": {},
     "output_type": "execute_result"
    }
   ],
   "source": [
    "df.head() #outputs are \"y\" and \"n\", and several NaN"
   ]
  },
  {
   "cell_type": "code",
   "execution_count": 10,
   "metadata": {},
   "outputs": [
    {
     "data": {
      "text/plain": [
       "democrat      267\n",
       "republican    168\n",
       "Name: class, dtype: int64"
      ]
     },
     "execution_count": 10,
     "metadata": {},
     "output_type": "execute_result"
    }
   ],
   "source": [
    "df['class'].value_counts()"
   ]
  },
  {
   "cell_type": "code",
   "execution_count": 11,
   "metadata": {
    "collapsed": true
   },
   "outputs": [],
   "source": [
    "df.drop(['v2', 'v16'], axis = 1, inplace = True)\n",
    "df.dropna(inplace = True)"
   ]
  },
  {
   "cell_type": "code",
   "execution_count": 12,
   "metadata": {},
   "outputs": [
    {
     "data": {
      "text/plain": [
       "(312, 15)"
      ]
     },
     "execution_count": 12,
     "metadata": {},
     "output_type": "execute_result"
    }
   ],
   "source": [
    "df.shape #(I trimmed down a lot.)"
   ]
  },
  {
   "cell_type": "code",
   "execution_count": 13,
   "metadata": {
    "collapsed": true
   },
   "outputs": [],
   "source": [
    "# convert y and n to 1's and 0s. PCA requires numeric variables. Y is voted, 0 is not voted\n",
    "dictionary  = {'y':1, 'n':0}\n",
    "for col in df.columns[1:]:\n",
    "    df[col] = df[col].map(dictionary)"
   ]
  },
  {
   "cell_type": "code",
   "execution_count": 14,
   "metadata": {},
   "outputs": [
    {
     "data": {
      "text/plain": [
       "class    0\n",
       "v1       0\n",
       "v3       0\n",
       "v4       0\n",
       "v5       0\n",
       "v6       0\n",
       "v7       0\n",
       "v8       0\n",
       "v9       0\n",
       "v10      0\n",
       "v11      0\n",
       "v12      0\n",
       "v13      0\n",
       "v14      0\n",
       "v15      0\n",
       "dtype: int64"
      ]
     },
     "execution_count": 14,
     "metadata": {},
     "output_type": "execute_result"
    }
   ],
   "source": [
    "df.isnull().sum() #sweet, we're good to go"
   ]
  },
  {
   "cell_type": "markdown",
   "metadata": {},
   "source": [
    "## Pre-processing"
   ]
  },
  {
   "cell_type": "code",
   "execution_count": 15,
   "metadata": {},
   "outputs": [
    {
     "data": {
      "text/html": [
       "<div>\n",
       "<style>\n",
       "    .dataframe thead tr:only-child th {\n",
       "        text-align: right;\n",
       "    }\n",
       "\n",
       "    .dataframe thead th {\n",
       "        text-align: left;\n",
       "    }\n",
       "\n",
       "    .dataframe tbody tr th {\n",
       "        vertical-align: top;\n",
       "    }\n",
       "</style>\n",
       "<table border=\"1\" class=\"dataframe\">\n",
       "  <thead>\n",
       "    <tr style=\"text-align: right;\">\n",
       "      <th></th>\n",
       "      <th>v1</th>\n",
       "      <th>v3</th>\n",
       "      <th>v4</th>\n",
       "      <th>v5</th>\n",
       "      <th>v6</th>\n",
       "      <th>v7</th>\n",
       "      <th>v8</th>\n",
       "      <th>v9</th>\n",
       "      <th>v10</th>\n",
       "      <th>v11</th>\n",
       "      <th>v12</th>\n",
       "      <th>v13</th>\n",
       "      <th>v14</th>\n",
       "      <th>v15</th>\n",
       "    </tr>\n",
       "  </thead>\n",
       "  <tbody>\n",
       "    <tr>\n",
       "      <th>2</th>\n",
       "      <td>-0.877639</td>\n",
       "      <td>-1.158253</td>\n",
       "      <td>1.106632</td>\n",
       "      <td>0.954558</td>\n",
       "      <td>0.762814</td>\n",
       "      <td>-1.113829</td>\n",
       "      <td>-1.099490</td>\n",
       "      <td>-0.998396</td>\n",
       "      <td>-1.037564</td>\n",
       "      <td>-0.726440</td>\n",
       "      <td>1.128396</td>\n",
       "      <td>0.954558</td>\n",
       "      <td>0.800030</td>\n",
       "      <td>-0.827216</td>\n",
       "    </tr>\n",
       "    <tr>\n",
       "      <th>6</th>\n",
       "      <td>-0.877639</td>\n",
       "      <td>0.860602</td>\n",
       "      <td>-0.900747</td>\n",
       "      <td>0.954558</td>\n",
       "      <td>0.762814</td>\n",
       "      <td>-1.113829</td>\n",
       "      <td>-1.099490</td>\n",
       "      <td>-0.998396</td>\n",
       "      <td>-1.037564</td>\n",
       "      <td>-0.726440</td>\n",
       "      <td>-0.883373</td>\n",
       "      <td>0.954558</td>\n",
       "      <td>0.800030</td>\n",
       "      <td>1.205000</td>\n",
       "    </tr>\n",
       "    <tr>\n",
       "      <th>9</th>\n",
       "      <td>-0.877639</td>\n",
       "      <td>-1.158253</td>\n",
       "      <td>1.106632</td>\n",
       "      <td>0.954558</td>\n",
       "      <td>0.762814</td>\n",
       "      <td>-1.113829</td>\n",
       "      <td>-1.099490</td>\n",
       "      <td>-0.998396</td>\n",
       "      <td>-1.037564</td>\n",
       "      <td>-0.726440</td>\n",
       "      <td>1.128396</td>\n",
       "      <td>0.954558</td>\n",
       "      <td>0.800030</td>\n",
       "      <td>-0.827216</td>\n",
       "    </tr>\n",
       "    <tr>\n",
       "      <th>18</th>\n",
       "      <td>1.135768</td>\n",
       "      <td>0.860602</td>\n",
       "      <td>-0.900747</td>\n",
       "      <td>-1.044248</td>\n",
       "      <td>-1.306734</td>\n",
       "      <td>0.894926</td>\n",
       "      <td>0.906597</td>\n",
       "      <td>0.998396</td>\n",
       "      <td>-1.037564</td>\n",
       "      <td>-0.726440</td>\n",
       "      <td>-0.883373</td>\n",
       "      <td>0.954558</td>\n",
       "      <td>-1.245948</td>\n",
       "      <td>1.205000</td>\n",
       "    </tr>\n",
       "    <tr>\n",
       "      <th>20</th>\n",
       "      <td>1.135768</td>\n",
       "      <td>0.860602</td>\n",
       "      <td>-0.900747</td>\n",
       "      <td>-1.044248</td>\n",
       "      <td>-1.306734</td>\n",
       "      <td>0.894926</td>\n",
       "      <td>0.906597</td>\n",
       "      <td>0.998396</td>\n",
       "      <td>-1.037564</td>\n",
       "      <td>1.372164</td>\n",
       "      <td>-0.883373</td>\n",
       "      <td>-1.044248</td>\n",
       "      <td>-1.245948</td>\n",
       "      <td>1.205000</td>\n",
       "    </tr>\n",
       "  </tbody>\n",
       "</table>\n",
       "</div>"
      ],
      "text/plain": [
       "          v1        v3        v4        v5        v6        v7        v8  \\\n",
       "2  -0.877639 -1.158253  1.106632  0.954558  0.762814 -1.113829 -1.099490   \n",
       "6  -0.877639  0.860602 -0.900747  0.954558  0.762814 -1.113829 -1.099490   \n",
       "9  -0.877639 -1.158253  1.106632  0.954558  0.762814 -1.113829 -1.099490   \n",
       "18  1.135768  0.860602 -0.900747 -1.044248 -1.306734  0.894926  0.906597   \n",
       "20  1.135768  0.860602 -0.900747 -1.044248 -1.306734  0.894926  0.906597   \n",
       "\n",
       "          v9       v10       v11       v12       v13       v14       v15  \n",
       "2  -0.998396 -1.037564 -0.726440  1.128396  0.954558  0.800030 -0.827216  \n",
       "6  -0.998396 -1.037564 -0.726440 -0.883373  0.954558  0.800030  1.205000  \n",
       "9  -0.998396 -1.037564 -0.726440  1.128396  0.954558  0.800030 -0.827216  \n",
       "18  0.998396 -1.037564 -0.726440 -0.883373  0.954558 -1.245948  1.205000  \n",
       "20  0.998396 -1.037564  1.372164 -0.883373 -1.044248 -1.245948  1.205000  "
      ]
     },
     "execution_count": 15,
     "metadata": {},
     "output_type": "execute_result"
    }
   ],
   "source": [
    "nums = df.drop('class', 1) # drop target column\n",
    "\n",
    "df_new = (nums - nums.mean()) / nums.std() #step 1&2 of PCA\n",
    "\n",
    "df_new.head() #This is a standardized matrix Z. "
   ]
  },
  {
   "cell_type": "code",
   "execution_count": 16,
   "metadata": {
    "collapsed": true
   },
   "outputs": [],
   "source": [
    "Z=np.cov(df_new,  rowvar=False) # Transposing matrix "
   ]
  },
  {
   "cell_type": "markdown",
   "metadata": {},
   "source": [
    "## How to choose the number of components"
   ]
  },
  {
   "cell_type": "code",
   "execution_count": 17,
   "metadata": {},
   "outputs": [
    {
     "data": {
      "image/png": "[encoded data removed]",
      "text/plain": [
       "<matplotlib.figure.Figure at 0x11957c7f0>"
      ]
     },
     "metadata": {},
     "output_type": "display_data"
    }
   ],
   "source": [
    "#how to choose the number of components:\n",
    "\n",
    "pca = PCA().fit(df_new)\n",
    "plt.plot(np.cumsum(pca.explained_variance_ratio_))\n",
    "plt.xlabel('number of components')\n",
    "plt.ylabel('cumulative explained variance');\n",
    "\n",
    "# This curve quantifies how much of the total\n",
    "# variance is contained within the first N components. \n",
    "# we see that it takes around all 7 components to describe 90% of the variance. \n"
   ]
  },
  {
   "cell_type": "markdown",
   "metadata": {},
   "source": [
    "## Decomposition in SKLearn"
   ]
  },
  {
   "cell_type": "code",
   "execution_count": null,
   "metadata": {
    "collapsed": true
   },
   "outputs": [],
   "source": [
    "# repeat the pre-processing previously done above \n",
    "\n",
    "df = pd.read_csv(votes_file, index_col = 0)\n",
    "df.columns = map(str.lower, df.columns)\n",
    "df.head() #outputs are \"y\" and \"n\", and several NaN\n",
    "df.drop(['v2', 'v16'], axis = 1, inplace = True)\n",
    "df.dropna(inplace = True)\n",
    "dictionary  = {'y':1, 'n':0}\n",
    "for col in df.columns[1:]:\n",
    "    df[col] = df[col].map(dictionary)"
   ]
  },
  {
   "cell_type": "code",
   "execution_count": 38,
   "metadata": {
    "collapsed": true
   },
   "outputs": [],
   "source": [
    "df1 = df\n",
    "df1['class'] = df1['class'].map({'republican':1, 'democrat':0})\n",
    "\n",
    "# Need this to visualize the targets below"
   ]
  },
  {
   "cell_type": "code",
   "execution_count": 39,
   "metadata": {
    "collapsed": true
   },
   "outputs": [],
   "source": [
    "def pca_function(data): \n",
    "    \n",
    "    # A function to scale, fit, transform and group our numerical dataset\n",
    "    \n",
    "    scaler = StandardScaler()\n",
    "    scaler.fit(nums) #nums is just our original dataframe minus the target column\n",
    "    scaled_data = scaler.transform(nums) \n",
    "    pca = PCA(n_components = 2) #I just want to keep 2 principal components\n",
    "    pca.fit(scaled_data)\n",
    "    x_pca = pca.transform(scaled_data)\n",
    "    print(scaled_data.shape)\n",
    "    print(x_pca.shape) #we care about the number of columns. make sure it says 2\n",
    "    plt.figure(figsize=(8,6)) \n",
    "    plt.scatter(x_pca[:,0], x_pca[:,1], c = df1['class'],  cmap = 'rainbow') \n",
    "    #scatterplot of rows from col 0 with rows from col 1\n",
    "    plt.xlabel('first principal component')\n",
    "    plt.ylabel('second princopal component')"
   ]
  },
  {
   "cell_type": "code",
   "execution_count": 40,
   "metadata": {},
   "outputs": [
    {
     "name": "stdout",
     "output_type": "stream",
     "text": [
      "(312, 14)\n",
      "(312, 2)\n"
     ]
    },
    {
     "data": {
      "image/png": "[encoded data removed]",
      "text/plain": [
       "<matplotlib.figure.Figure at 0x11be26080>"
      ]
     },
     "metadata": {},
     "output_type": "display_data"
    }
   ],
   "source": [
    "pca_function(df) "
   ]
  },
  {
   "cell_type": "code",
   "execution_count": 41,
   "metadata": {
    "collapsed": true
   },
   "outputs": [],
   "source": [
    "scaler = StandardScaler()\n",
    "scaler.fit(nums) #nums is just our original dataframe minus the target column (rep and dem)\n",
    "scaled_data = scaler.transform(nums)\n",
    "pca = PCA(n_components = 2) #I just want to keep 5 principal components\n",
    "pca.fit(scaled_data)\n",
    "x_pca = pca.transform(scaled_data) "
   ]
  },
  {
   "cell_type": "code",
   "execution_count": 42,
   "metadata": {},
   "outputs": [
    {
     "data": {
      "text/plain": [
       "(312, 2)"
      ]
     },
     "execution_count": 42,
     "metadata": {},
     "output_type": "execute_result"
    }
   ],
   "source": [
    "x_pca.shape"
   ]
  },
  {
   "cell_type": "code",
   "execution_count": 43,
   "metadata": {},
   "outputs": [
    {
     "data": {
      "text/plain": [
       "array([[ 0.19579615,  0.29017386, -0.31128973, -0.33198389, -0.27042147,\n",
       "         0.28316923,  0.32272451,  0.30386302, -0.02466053,  0.070434  ,\n",
       "        -0.30582228, -0.27698062, -0.28946019,  0.24688083],\n",
       "       [-0.10421307,  0.16620668, -0.17475625,  0.02054583,  0.30978658,\n",
       "        -0.06122779,  0.0508912 , -0.03406659,  0.54496687,  0.71053488,\n",
       "        -0.09594012,  0.08490815,  0.0925323 ,  0.01616291]])"
      ]
     },
     "execution_count": 43,
     "metadata": {},
     "output_type": "execute_result"
    }
   ],
   "source": [
    "pca.components_ #each row represents a principal component, and each column represents the features"
   ]
  },
  {
   "cell_type": "code",
   "execution_count": 44,
   "metadata": {
    "collapsed": true
   },
   "outputs": [],
   "source": [
    "df_component = pd.DataFrame(pca.components_,columns = nums.columns)"
   ]
  },
  {
   "cell_type": "code",
   "execution_count": 45,
   "metadata": {},
   "outputs": [
    {
     "data": {
      "text/html": [
       "<div>\n",
       "<style>\n",
       "    .dataframe thead tr:only-child th {\n",
       "        text-align: right;\n",
       "    }\n",
       "\n",
       "    .dataframe thead th {\n",
       "        text-align: left;\n",
       "    }\n",
       "\n",
       "    .dataframe tbody tr th {\n",
       "        vertical-align: top;\n",
       "    }\n",
       "</style>\n",
       "<table border=\"1\" class=\"dataframe\">\n",
       "  <thead>\n",
       "    <tr style=\"text-align: right;\">\n",
       "      <th></th>\n",
       "      <th>v1</th>\n",
       "      <th>v3</th>\n",
       "      <th>v4</th>\n",
       "      <th>v5</th>\n",
       "      <th>v6</th>\n",
       "      <th>v7</th>\n",
       "      <th>v8</th>\n",
       "      <th>v9</th>\n",
       "      <th>v10</th>\n",
       "      <th>v11</th>\n",
       "      <th>v12</th>\n",
       "      <th>v13</th>\n",
       "      <th>v14</th>\n",
       "      <th>v15</th>\n",
       "    </tr>\n",
       "  </thead>\n",
       "  <tbody>\n",
       "    <tr>\n",
       "      <th>0</th>\n",
       "      <td>0.195796</td>\n",
       "      <td>0.290174</td>\n",
       "      <td>-0.311290</td>\n",
       "      <td>-0.331984</td>\n",
       "      <td>-0.270421</td>\n",
       "      <td>0.283169</td>\n",
       "      <td>0.322725</td>\n",
       "      <td>0.303863</td>\n",
       "      <td>-0.024661</td>\n",
       "      <td>0.070434</td>\n",
       "      <td>-0.305822</td>\n",
       "      <td>-0.276981</td>\n",
       "      <td>-0.289460</td>\n",
       "      <td>0.246881</td>\n",
       "    </tr>\n",
       "    <tr>\n",
       "      <th>1</th>\n",
       "      <td>-0.104213</td>\n",
       "      <td>0.166207</td>\n",
       "      <td>-0.174756</td>\n",
       "      <td>0.020546</td>\n",
       "      <td>0.309787</td>\n",
       "      <td>-0.061228</td>\n",
       "      <td>0.050891</td>\n",
       "      <td>-0.034067</td>\n",
       "      <td>0.544967</td>\n",
       "      <td>0.710535</td>\n",
       "      <td>-0.095940</td>\n",
       "      <td>0.084908</td>\n",
       "      <td>0.092532</td>\n",
       "      <td>0.016163</td>\n",
       "    </tr>\n",
       "  </tbody>\n",
       "</table>\n",
       "</div>"
      ],
      "text/plain": [
       "         v1        v3        v4        v5        v6        v7        v8  \\\n",
       "0  0.195796  0.290174 -0.311290 -0.331984 -0.270421  0.283169  0.322725   \n",
       "1 -0.104213  0.166207 -0.174756  0.020546  0.309787 -0.061228  0.050891   \n",
       "\n",
       "         v9       v10       v11       v12       v13       v14       v15  \n",
       "0  0.303863 -0.024661  0.070434 -0.305822 -0.276981 -0.289460  0.246881  \n",
       "1 -0.034067  0.544967  0.710535 -0.095940  0.084908  0.092532  0.016163  "
      ]
     },
     "execution_count": 45,
     "metadata": {},
     "output_type": "execute_result"
    }
   ],
   "source": [
    "df_component # each principal component is listed as a row. "
   ]
  },
  {
   "cell_type": "code",
   "execution_count": 46,
   "metadata": {},
   "outputs": [
    {
     "data": {
      "text/plain": [
       "<matplotlib.axes._subplots.AxesSubplot at 0x11c1599b0>"
      ]
     },
     "execution_count": 46,
     "metadata": {},
     "output_type": "execute_result"
    },
    {
     "data": {
      "image/png": "[encoded data removed]",
      "text/plain": [
       "<matplotlib.figure.Figure at 0x11c097c88>"
      ]
     },
     "metadata": {},
     "output_type": "display_data"
    }
   ],
   "source": [
    "plt.figure(figsize=(15,2)) # Another way to visualize the effects of your components\n",
    "sns.heatmap(df_component)"
   ]
  },
  {
   "cell_type": "markdown",
   "metadata": {},
   "source": [
    "## Making Predictions"
   ]
  },
  {
   "cell_type": "code",
   "execution_count": 47,
   "metadata": {
    "collapsed": true
   },
   "outputs": [],
   "source": [
    "from sklearn.decomposition import PCA\n",
    "from sklearn.linear_model import LogisticRegression\n",
    "from sklearn.pipeline import Pipeline"
   ]
  },
  {
   "cell_type": "code",
   "execution_count": 48,
   "metadata": {},
   "outputs": [
    {
     "data": {
      "text/plain": [
       "Index(['class', 'v1', 'v3', 'v4', 'v5', 'v6', 'v7', 'v8', 'v9', 'v10', 'v11',\n",
       "       'v12', 'v13', 'v14', 'v15'],\n",
       "      dtype='object')"
      ]
     },
     "execution_count": 48,
     "metadata": {},
     "output_type": "execute_result"
    }
   ],
   "source": [
    "df1.columns # note that we have a class column in this dataframe. We'll need to drop it"
   ]
  },
  {
   "cell_type": "code",
   "execution_count": 49,
   "metadata": {},
   "outputs": [
    {
     "data": {
      "text/html": [
       "<div>\n",
       "<style>\n",
       "    .dataframe thead tr:only-child th {\n",
       "        text-align: right;\n",
       "    }\n",
       "\n",
       "    .dataframe thead th {\n",
       "        text-align: left;\n",
       "    }\n",
       "\n",
       "    .dataframe tbody tr th {\n",
       "        vertical-align: top;\n",
       "    }\n",
       "</style>\n",
       "<table border=\"1\" class=\"dataframe\">\n",
       "  <thead>\n",
       "    <tr style=\"text-align: right;\">\n",
       "      <th></th>\n",
       "      <th>class</th>\n",
       "      <th>v1</th>\n",
       "      <th>v3</th>\n",
       "      <th>v4</th>\n",
       "      <th>v5</th>\n",
       "      <th>v6</th>\n",
       "      <th>v7</th>\n",
       "      <th>v8</th>\n",
       "      <th>v9</th>\n",
       "      <th>v10</th>\n",
       "      <th>v11</th>\n",
       "      <th>v12</th>\n",
       "      <th>v13</th>\n",
       "      <th>v14</th>\n",
       "      <th>v15</th>\n",
       "    </tr>\n",
       "  </thead>\n",
       "  <tbody>\n",
       "    <tr>\n",
       "      <th>2</th>\n",
       "      <td>1</td>\n",
       "      <td>0</td>\n",
       "      <td>0</td>\n",
       "      <td>1</td>\n",
       "      <td>1</td>\n",
       "      <td>1</td>\n",
       "      <td>0</td>\n",
       "      <td>0</td>\n",
       "      <td>0</td>\n",
       "      <td>0</td>\n",
       "      <td>0</td>\n",
       "      <td>1</td>\n",
       "      <td>1</td>\n",
       "      <td>1</td>\n",
       "      <td>0</td>\n",
       "    </tr>\n",
       "    <tr>\n",
       "      <th>6</th>\n",
       "      <td>0</td>\n",
       "      <td>0</td>\n",
       "      <td>1</td>\n",
       "      <td>0</td>\n",
       "      <td>1</td>\n",
       "      <td>1</td>\n",
       "      <td>0</td>\n",
       "      <td>0</td>\n",
       "      <td>0</td>\n",
       "      <td>0</td>\n",
       "      <td>0</td>\n",
       "      <td>0</td>\n",
       "      <td>1</td>\n",
       "      <td>1</td>\n",
       "      <td>1</td>\n",
       "    </tr>\n",
       "    <tr>\n",
       "      <th>9</th>\n",
       "      <td>1</td>\n",
       "      <td>0</td>\n",
       "      <td>0</td>\n",
       "      <td>1</td>\n",
       "      <td>1</td>\n",
       "      <td>1</td>\n",
       "      <td>0</td>\n",
       "      <td>0</td>\n",
       "      <td>0</td>\n",
       "      <td>0</td>\n",
       "      <td>0</td>\n",
       "      <td>1</td>\n",
       "      <td>1</td>\n",
       "      <td>1</td>\n",
       "      <td>0</td>\n",
       "    </tr>\n",
       "    <tr>\n",
       "      <th>18</th>\n",
       "      <td>0</td>\n",
       "      <td>1</td>\n",
       "      <td>1</td>\n",
       "      <td>0</td>\n",
       "      <td>0</td>\n",
       "      <td>0</td>\n",
       "      <td>1</td>\n",
       "      <td>1</td>\n",
       "      <td>1</td>\n",
       "      <td>0</td>\n",
       "      <td>0</td>\n",
       "      <td>0</td>\n",
       "      <td>1</td>\n",
       "      <td>0</td>\n",
       "      <td>1</td>\n",
       "    </tr>\n",
       "    <tr>\n",
       "      <th>20</th>\n",
       "      <td>0</td>\n",
       "      <td>1</td>\n",
       "      <td>1</td>\n",
       "      <td>0</td>\n",
       "      <td>0</td>\n",
       "      <td>0</td>\n",
       "      <td>1</td>\n",
       "      <td>1</td>\n",
       "      <td>1</td>\n",
       "      <td>0</td>\n",
       "      <td>1</td>\n",
       "      <td>0</td>\n",
       "      <td>0</td>\n",
       "      <td>0</td>\n",
       "      <td>1</td>\n",
       "    </tr>\n",
       "  </tbody>\n",
       "</table>\n",
       "</div>"
      ],
      "text/plain": [
       "    class  v1  v3  v4  v5  v6  v7  v8  v9  v10  v11  v12  v13  v14  v15\n",
       "2       1   0   0   1   1   1   0   0   0    0    0    1    1    1    0\n",
       "6       0   0   1   0   1   1   0   0   0    0    0    0    1    1    1\n",
       "9       1   0   0   1   1   1   0   0   0    0    0    1    1    1    0\n",
       "18      0   1   1   0   0   0   1   1   1    0    0    0    1    0    1\n",
       "20      0   1   1   0   0   0   1   1   1    0    1    0    0    0    1"
      ]
     },
     "execution_count": 49,
     "metadata": {},
     "output_type": "execute_result"
    }
   ],
   "source": [
    "df1.head()"
   ]
  },
  {
   "cell_type": "code",
   "execution_count": 65,
   "metadata": {
    "collapsed": true
   },
   "outputs": [],
   "source": [
    "# in order to apply a classification model, we have to create test and train samples\n",
    "\n",
    "sample = np.random.rand(len(df1)) < 0.7\n",
    "train = df[sample]\n",
    "test = df[~sample] # ~ stands for \"not\""
   ]
  },
  {
   "cell_type": "code",
   "execution_count": 66,
   "metadata": {},
   "outputs": [
    {
     "data": {
      "text/plain": [
       "(214, 15)"
      ]
     },
     "execution_count": 66,
     "metadata": {},
     "output_type": "execute_result"
    }
   ],
   "source": [
    "train.shape\n",
    "test.shape"
   ]
  },
  {
   "cell_type": "code",
   "execution_count": 68,
   "metadata": {
    "collapsed": true
   },
   "outputs": [],
   "source": [
    "pca = PCA(n_components=2) #keep 2 components\n",
    "lr = LogisticRegression() # the one, the only, logistic regression"
   ]
  },
  {
   "cell_type": "code",
   "execution_count": 71,
   "metadata": {},
   "outputs": [],
   "source": [
    "pca_train = pca.fit_transform(train.drop(\"class\", axis=1)) \n",
    "pca_test = pca.transform(test.drop(\"class\", axis=1)) "
   ]
  },
  {
   "cell_type": "code",
   "execution_count": 73,
   "metadata": {},
   "outputs": [],
   "source": [
    "pca_test # this is the same as your x_pca output above, just a smaller fraction of it"
   ]
  },
  {
   "cell_type": "code",
   "execution_count": 57,
   "metadata": {},
   "outputs": [],
   "source": [
    "df_train = pd.DataFrame(pca_train) #just changing the format, for fitting\n",
    "df_test = pd.DataFrame(pca_test)  "
   ]
  },
  {
   "cell_type": "code",
   "execution_count": 58,
   "metadata": {},
   "outputs": [
    {
     "data": {
      "text/plain": [
       "array([0, 0, 1, 0, 1, 0, 1, 0, 0, 1, 0, 0, 0, 1, 0, 1, 0, 1, 0, 0, 1, 1, 1,\n",
       "       0, 1, 1, 0, 0, 1, 1, 0, 0, 0, 0, 0, 0, 1, 0, 0, 0, 1, 1, 0, 1, 0, 1,\n",
       "       0, 0, 1, 0, 0, 1, 0, 0, 1, 0, 1, 0, 1, 0, 0, 1, 1, 0, 0, 0, 1, 1, 0,\n",
       "       0, 1, 1, 0, 1, 1, 1, 0, 1, 0, 1, 0, 0, 0, 1, 1, 0, 1, 0, 1])"
      ]
     },
     "execution_count": 58,
     "metadata": {},
     "output_type": "execute_result"
    }
   ],
   "source": [
    "lr.fit(df_train, train[\"class\"]) #We're comparing \"scaled\" predictors with target data\n",
    "pred = lr.predict(df_test) # Predictions were made\n",
    "pred"
   ]
  },
  {
   "cell_type": "markdown",
   "metadata": {
    "collapsed": true
   },
   "source": [
    "## Alternatively, we can create a pipeline to do the above in three steps! "
   ]
  },
  {
   "cell_type": "code",
   "execution_count": 64,
   "metadata": {
    "collapsed": true
   },
   "outputs": [],
   "source": [
    "# See SKLearn for details: http://scikit-learn.org/stable/auto_examples/plot_digits_pipe.html"
   ]
  },
  {
   "cell_type": "code",
   "execution_count": 63,
   "metadata": {},
   "outputs": [
    {
     "data": {
      "text/plain": [
       "array([0, 0, 1, 0, 1, 0, 1, 0, 0, 1, 0, 0, 0, 1, 0, 1, 0, 1, 0, 0, 1, 1, 1,\n",
       "       0, 1, 1, 0, 0, 1, 1, 0, 0, 0, 0, 0, 0, 1, 0, 0, 0, 1, 1, 0, 1, 0, 1,\n",
       "       0, 0, 1, 0, 0, 1, 0, 0, 1, 0, 1, 0, 1, 0, 0, 1, 1, 0, 0, 0, 1, 1, 0,\n",
       "       0, 1, 1, 0, 1, 1, 1, 0, 1, 0, 1, 0, 0, 0, 1, 1, 0, 1, 0, 1])"
      ]
     },
     "execution_count": 63,
     "metadata": {},
     "output_type": "execute_result"
    }
   ],
   "source": [
    "pipeline = Pipeline([('pca', pca), ('logistic', lr)])\n",
    "pipeline.fit(df_train, train[\"class\"])\n",
    "pred = pipeline.predict(df_test)\n",
    "pred"
   ]
  },
  {
   "cell_type": "code",
   "execution_count": null,
   "metadata": {
    "collapsed": true
   },
   "outputs": [],
   "source": []
  }
 ],
 "metadata": {
  "anaconda-cloud": {},
  "kernelspec": {
   "display_name": "Python 3",
   "language": "python",
   "name": "python3"
  },
  "language_info": {
   "codemirror_mode": {
    "name": "ipython",
    "version": 3
   },
   "file_extension": ".py",
   "mimetype": "text/x-python",
   "name": "python",
   "nbconvert_exporter": "python",
   "pygments_lexer": "ipython3",
   "version": "3.6.3"
  }
 },
 "nbformat": 4,
 "nbformat_minor": 1
}
